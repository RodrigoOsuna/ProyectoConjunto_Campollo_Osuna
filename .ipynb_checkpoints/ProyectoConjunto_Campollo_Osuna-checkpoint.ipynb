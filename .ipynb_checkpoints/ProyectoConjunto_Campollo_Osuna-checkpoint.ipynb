{
 "cells": [
  {
   "cell_type": "markdown",
   "metadata": {},
   "source": [
    "<img style=\"float: left; margin: 30px 15px 15px 15px;\" src=\"https://pngimage.net/wp-content/uploads/2018/06/logo-iteso-png-5.png\" width=\"300\" height=\"500\" /> \n",
    "    \n",
    "    \n",
    "### <font color='navy'> Simulación de procesos financieros. \n",
    "\n",
    "**Nombres:** Rodrigo Osuna, Guillermo Campollo.\n",
    "\n",
    "**Fecha:** 4 de febrero del 2020.\n",
    "\n",
    "**Expediente** : 706686, 709915.\n",
    "**Profesor:** Oscar David Jaramillo Zuluaga.\n"
   ]
  },
  {
   "cell_type": "markdown",
   "metadata": {},
   "source": [
    "#  <font color='DarkRed'> Tarea 1: Simulacion de Procesos Financieros"
   ]
  },
  {
   "cell_type": "markdown",
   "metadata": {},
   "source": [
    "## Tarea Git Colaborativa\n",
    "> Uso de Git para trabajar  en un mismo repo"
   ]
  },
  {
   "cell_type": "markdown",
   "metadata": {},
   "source": [
    "## <font color=\"darkred\"><center>Resumen Lectura 1\n",
    "<img src=\"https://encrypted-tbn0.gstatic.com/images?q=tbn:ANd9GcS3kf6ZTospvdkbQ0G6xVraiA0tOTx8zrUDrP0aIsJ0cYLRb5nKag\" width=\"200\" height=\"50\" align=\"center\"><br>\n",
    "**Python** es un lenguaje que adquirió demasiado uso, al nivel de ser mas buscado que Kim Kardashian. El creador de dicho lenguaje nunca espero que tuviera tanto auge. Muchos “pythonistas”” piensan que jamás será derrocado, pero ya han existido otros lenguajes que eran usados por mucha gente y que eventualmente perdieron validez. Se podría comparar como a los imperios, por más que parezca que nadie podría derrocarlos, eventualmente siempre surge uno nuevo que lo hace. Pero por mas que Python no dure para siempre, ciertamente hizo que la programación expandiera sus alas, a un nivel en donde existen librerías para:  "
   ]
  },
  {
   "cell_type": "code",
   "execution_count": null,
   "metadata": {},
   "outputs": [],
   "source": []
  },
  {
   "cell_type": "code",
   "execution_count": null,
   "metadata": {},
   "outputs": [],
   "source": []
  },
  {
   "cell_type": "code",
   "execution_count": null,
   "metadata": {},
   "outputs": [],
   "source": []
  },
  {
   "cell_type": "code",
   "execution_count": null,
   "metadata": {},
   "outputs": [],
   "source": []
  },
  {
   "cell_type": "code",
   "execution_count": null,
   "metadata": {},
   "outputs": [],
   "source": []
  }
 ],
 "metadata": {
  "kernelspec": {
   "display_name": "Python 3",
   "language": "python",
   "name": "python3"
  },
  "language_info": {
   "codemirror_mode": {
    "name": "ipython",
    "version": 3
   },
   "file_extension": ".py",
   "mimetype": "text/x-python",
   "name": "python",
   "nbconvert_exporter": "python",
   "pygments_lexer": "ipython3",
   "version": "3.7.3"
  }
 },
 "nbformat": 4,
 "nbformat_minor": 2
}
